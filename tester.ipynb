{
 "cells": [
  {
   "cell_type": "code",
   "execution_count": 8,
   "metadata": {},
   "outputs": [
    {
     "ename": "ResourceInUseException",
     "evalue": "An error occurred (ResourceInUseException) when calling the CreateTable operation: Table already exists: users",
     "output_type": "error",
     "traceback": [
      "\u001b[1;31m---------------------------------------------------------------------------\u001b[0m",
      "\u001b[1;31mResourceInUseException\u001b[0m                    Traceback (most recent call last)",
      "\u001b[1;32mc:\\Users\\dines\\OneDrive\\Desktop\\Big data\\tester.ipynb Cell 1\u001b[0m line \u001b[0;36m7\n\u001b[0;32m      <a href='vscode-notebook-cell:/c%3A/Users/dines/OneDrive/Desktop/Big%20data/tester.ipynb#W1sZmlsZQ%3D%3D?line=3'>4</a>\u001b[0m dynamodb \u001b[39m=\u001b[39m boto3\u001b[39m.\u001b[39mresource(\u001b[39m'\u001b[39m\u001b[39mdynamodb\u001b[39m\u001b[39m'\u001b[39m)\n\u001b[0;32m      <a href='vscode-notebook-cell:/c%3A/Users/dines/OneDrive/Desktop/Big%20data/tester.ipynb#W1sZmlsZQ%3D%3D?line=5'>6</a>\u001b[0m \u001b[39m# Create the DynamoDB table.\u001b[39;00m\n\u001b[1;32m----> <a href='vscode-notebook-cell:/c%3A/Users/dines/OneDrive/Desktop/Big%20data/tester.ipynb#W1sZmlsZQ%3D%3D?line=6'>7</a>\u001b[0m table \u001b[39m=\u001b[39m dynamodb\u001b[39m.\u001b[39;49mcreate_table(\n\u001b[0;32m      <a href='vscode-notebook-cell:/c%3A/Users/dines/OneDrive/Desktop/Big%20data/tester.ipynb#W1sZmlsZQ%3D%3D?line=7'>8</a>\u001b[0m     TableName\u001b[39m=\u001b[39;49m\u001b[39m'\u001b[39;49m\u001b[39musers\u001b[39;49m\u001b[39m'\u001b[39;49m,\n\u001b[0;32m      <a href='vscode-notebook-cell:/c%3A/Users/dines/OneDrive/Desktop/Big%20data/tester.ipynb#W1sZmlsZQ%3D%3D?line=8'>9</a>\u001b[0m     KeySchema\u001b[39m=\u001b[39;49m[\n\u001b[0;32m     <a href='vscode-notebook-cell:/c%3A/Users/dines/OneDrive/Desktop/Big%20data/tester.ipynb#W1sZmlsZQ%3D%3D?line=9'>10</a>\u001b[0m         {\n\u001b[0;32m     <a href='vscode-notebook-cell:/c%3A/Users/dines/OneDrive/Desktop/Big%20data/tester.ipynb#W1sZmlsZQ%3D%3D?line=10'>11</a>\u001b[0m             \u001b[39m'\u001b[39;49m\u001b[39mAttributeName\u001b[39;49m\u001b[39m'\u001b[39;49m: \u001b[39m'\u001b[39;49m\u001b[39musername\u001b[39;49m\u001b[39m'\u001b[39;49m,\n\u001b[0;32m     <a href='vscode-notebook-cell:/c%3A/Users/dines/OneDrive/Desktop/Big%20data/tester.ipynb#W1sZmlsZQ%3D%3D?line=11'>12</a>\u001b[0m             \u001b[39m'\u001b[39;49m\u001b[39mKeyType\u001b[39;49m\u001b[39m'\u001b[39;49m: \u001b[39m'\u001b[39;49m\u001b[39mHASH\u001b[39;49m\u001b[39m'\u001b[39;49m\n\u001b[0;32m     <a href='vscode-notebook-cell:/c%3A/Users/dines/OneDrive/Desktop/Big%20data/tester.ipynb#W1sZmlsZQ%3D%3D?line=12'>13</a>\u001b[0m         },\n\u001b[0;32m     <a href='vscode-notebook-cell:/c%3A/Users/dines/OneDrive/Desktop/Big%20data/tester.ipynb#W1sZmlsZQ%3D%3D?line=13'>14</a>\u001b[0m         {\n\u001b[0;32m     <a href='vscode-notebook-cell:/c%3A/Users/dines/OneDrive/Desktop/Big%20data/tester.ipynb#W1sZmlsZQ%3D%3D?line=14'>15</a>\u001b[0m             \u001b[39m'\u001b[39;49m\u001b[39mAttributeName\u001b[39;49m\u001b[39m'\u001b[39;49m: \u001b[39m'\u001b[39;49m\u001b[39mlast_name\u001b[39;49m\u001b[39m'\u001b[39;49m,\n\u001b[0;32m     <a href='vscode-notebook-cell:/c%3A/Users/dines/OneDrive/Desktop/Big%20data/tester.ipynb#W1sZmlsZQ%3D%3D?line=15'>16</a>\u001b[0m             \u001b[39m'\u001b[39;49m\u001b[39mKeyType\u001b[39;49m\u001b[39m'\u001b[39;49m: \u001b[39m'\u001b[39;49m\u001b[39mRANGE\u001b[39;49m\u001b[39m'\u001b[39;49m\n\u001b[0;32m     <a href='vscode-notebook-cell:/c%3A/Users/dines/OneDrive/Desktop/Big%20data/tester.ipynb#W1sZmlsZQ%3D%3D?line=16'>17</a>\u001b[0m         }\n\u001b[0;32m     <a href='vscode-notebook-cell:/c%3A/Users/dines/OneDrive/Desktop/Big%20data/tester.ipynb#W1sZmlsZQ%3D%3D?line=17'>18</a>\u001b[0m     ],\n\u001b[0;32m     <a href='vscode-notebook-cell:/c%3A/Users/dines/OneDrive/Desktop/Big%20data/tester.ipynb#W1sZmlsZQ%3D%3D?line=18'>19</a>\u001b[0m     AttributeDefinitions\u001b[39m=\u001b[39;49m[\n\u001b[0;32m     <a href='vscode-notebook-cell:/c%3A/Users/dines/OneDrive/Desktop/Big%20data/tester.ipynb#W1sZmlsZQ%3D%3D?line=19'>20</a>\u001b[0m         {\n\u001b[0;32m     <a href='vscode-notebook-cell:/c%3A/Users/dines/OneDrive/Desktop/Big%20data/tester.ipynb#W1sZmlsZQ%3D%3D?line=20'>21</a>\u001b[0m             \u001b[39m'\u001b[39;49m\u001b[39mAttributeName\u001b[39;49m\u001b[39m'\u001b[39;49m: \u001b[39m'\u001b[39;49m\u001b[39musername\u001b[39;49m\u001b[39m'\u001b[39;49m,\n\u001b[0;32m     <a href='vscode-notebook-cell:/c%3A/Users/dines/OneDrive/Desktop/Big%20data/tester.ipynb#W1sZmlsZQ%3D%3D?line=21'>22</a>\u001b[0m             \u001b[39m'\u001b[39;49m\u001b[39mAttributeType\u001b[39;49m\u001b[39m'\u001b[39;49m: \u001b[39m'\u001b[39;49m\u001b[39mS\u001b[39;49m\u001b[39m'\u001b[39;49m\n\u001b[0;32m     <a href='vscode-notebook-cell:/c%3A/Users/dines/OneDrive/Desktop/Big%20data/tester.ipynb#W1sZmlsZQ%3D%3D?line=22'>23</a>\u001b[0m         },\n\u001b[0;32m     <a href='vscode-notebook-cell:/c%3A/Users/dines/OneDrive/Desktop/Big%20data/tester.ipynb#W1sZmlsZQ%3D%3D?line=23'>24</a>\u001b[0m         {\n\u001b[0;32m     <a href='vscode-notebook-cell:/c%3A/Users/dines/OneDrive/Desktop/Big%20data/tester.ipynb#W1sZmlsZQ%3D%3D?line=24'>25</a>\u001b[0m             \u001b[39m'\u001b[39;49m\u001b[39mAttributeName\u001b[39;49m\u001b[39m'\u001b[39;49m: \u001b[39m'\u001b[39;49m\u001b[39mlast_name\u001b[39;49m\u001b[39m'\u001b[39;49m,\n\u001b[0;32m     <a href='vscode-notebook-cell:/c%3A/Users/dines/OneDrive/Desktop/Big%20data/tester.ipynb#W1sZmlsZQ%3D%3D?line=25'>26</a>\u001b[0m             \u001b[39m'\u001b[39;49m\u001b[39mAttributeType\u001b[39;49m\u001b[39m'\u001b[39;49m: \u001b[39m'\u001b[39;49m\u001b[39mS\u001b[39;49m\u001b[39m'\u001b[39;49m\n\u001b[0;32m     <a href='vscode-notebook-cell:/c%3A/Users/dines/OneDrive/Desktop/Big%20data/tester.ipynb#W1sZmlsZQ%3D%3D?line=26'>27</a>\u001b[0m         },\n\u001b[0;32m     <a href='vscode-notebook-cell:/c%3A/Users/dines/OneDrive/Desktop/Big%20data/tester.ipynb#W1sZmlsZQ%3D%3D?line=27'>28</a>\u001b[0m     ],\n\u001b[0;32m     <a href='vscode-notebook-cell:/c%3A/Users/dines/OneDrive/Desktop/Big%20data/tester.ipynb#W1sZmlsZQ%3D%3D?line=28'>29</a>\u001b[0m     ProvisionedThroughput\u001b[39m=\u001b[39;49m{\n\u001b[0;32m     <a href='vscode-notebook-cell:/c%3A/Users/dines/OneDrive/Desktop/Big%20data/tester.ipynb#W1sZmlsZQ%3D%3D?line=29'>30</a>\u001b[0m         \u001b[39m'\u001b[39;49m\u001b[39mReadCapacityUnits\u001b[39;49m\u001b[39m'\u001b[39;49m: \u001b[39m5\u001b[39;49m,\n\u001b[0;32m     <a href='vscode-notebook-cell:/c%3A/Users/dines/OneDrive/Desktop/Big%20data/tester.ipynb#W1sZmlsZQ%3D%3D?line=30'>31</a>\u001b[0m         \u001b[39m'\u001b[39;49m\u001b[39mWriteCapacityUnits\u001b[39;49m\u001b[39m'\u001b[39;49m: \u001b[39m5\u001b[39;49m\n\u001b[0;32m     <a href='vscode-notebook-cell:/c%3A/Users/dines/OneDrive/Desktop/Big%20data/tester.ipynb#W1sZmlsZQ%3D%3D?line=31'>32</a>\u001b[0m     }\n\u001b[0;32m     <a href='vscode-notebook-cell:/c%3A/Users/dines/OneDrive/Desktop/Big%20data/tester.ipynb#W1sZmlsZQ%3D%3D?line=32'>33</a>\u001b[0m )\n\u001b[0;32m     <a href='vscode-notebook-cell:/c%3A/Users/dines/OneDrive/Desktop/Big%20data/tester.ipynb#W1sZmlsZQ%3D%3D?line=34'>35</a>\u001b[0m \u001b[39m# Wait until the table exists.\u001b[39;00m\n\u001b[0;32m     <a href='vscode-notebook-cell:/c%3A/Users/dines/OneDrive/Desktop/Big%20data/tester.ipynb#W1sZmlsZQ%3D%3D?line=35'>36</a>\u001b[0m table\u001b[39m.\u001b[39mwait_until_exists()\n",
      "File \u001b[1;32mc:\\Users\\dines\\AppData\\Local\\Programs\\Python\\Python311\\Lib\\site-packages\\boto3\\resources\\factory.py:580\u001b[0m, in \u001b[0;36mResourceFactory._create_action.<locals>.do_action\u001b[1;34m(self, *args, **kwargs)\u001b[0m\n\u001b[0;32m    579\u001b[0m \u001b[39mdef\u001b[39;00m \u001b[39mdo_action\u001b[39m(\u001b[39mself\u001b[39m, \u001b[39m*\u001b[39margs, \u001b[39m*\u001b[39m\u001b[39m*\u001b[39mkwargs):\n\u001b[1;32m--> 580\u001b[0m     response \u001b[39m=\u001b[39m action(\u001b[39mself\u001b[39;49m, \u001b[39m*\u001b[39;49margs, \u001b[39m*\u001b[39;49m\u001b[39m*\u001b[39;49mkwargs)\n\u001b[0;32m    582\u001b[0m     \u001b[39mif\u001b[39;00m \u001b[39mhasattr\u001b[39m(\u001b[39mself\u001b[39m, \u001b[39m'\u001b[39m\u001b[39mload\u001b[39m\u001b[39m'\u001b[39m):\n\u001b[0;32m    583\u001b[0m         \u001b[39m# Clear cached data. It will be reloaded the next\u001b[39;00m\n\u001b[0;32m    584\u001b[0m         \u001b[39m# time that an attribute is accessed.\u001b[39;00m\n\u001b[0;32m    585\u001b[0m         \u001b[39m# TODO: Make this configurable in the future?\u001b[39;00m\n\u001b[0;32m    586\u001b[0m         \u001b[39mself\u001b[39m\u001b[39m.\u001b[39mmeta\u001b[39m.\u001b[39mdata \u001b[39m=\u001b[39m \u001b[39mNone\u001b[39;00m\n",
      "File \u001b[1;32mc:\\Users\\dines\\AppData\\Local\\Programs\\Python\\Python311\\Lib\\site-packages\\boto3\\resources\\action.py:88\u001b[0m, in \u001b[0;36mServiceAction.__call__\u001b[1;34m(self, parent, *args, **kwargs)\u001b[0m\n\u001b[0;32m     79\u001b[0m params\u001b[39m.\u001b[39mupdate(kwargs)\n\u001b[0;32m     81\u001b[0m logger\u001b[39m.\u001b[39mdebug(\n\u001b[0;32m     82\u001b[0m     \u001b[39m'\u001b[39m\u001b[39mCalling \u001b[39m\u001b[39m%s\u001b[39;00m\u001b[39m:\u001b[39m\u001b[39m%s\u001b[39;00m\u001b[39m with \u001b[39m\u001b[39m%r\u001b[39;00m\u001b[39m'\u001b[39m,\n\u001b[0;32m     83\u001b[0m     parent\u001b[39m.\u001b[39mmeta\u001b[39m.\u001b[39mservice_name,\n\u001b[0;32m     84\u001b[0m     operation_name,\n\u001b[0;32m     85\u001b[0m     params,\n\u001b[0;32m     86\u001b[0m )\n\u001b[1;32m---> 88\u001b[0m response \u001b[39m=\u001b[39m \u001b[39mgetattr\u001b[39;49m(parent\u001b[39m.\u001b[39;49mmeta\u001b[39m.\u001b[39;49mclient, operation_name)(\u001b[39m*\u001b[39;49margs, \u001b[39m*\u001b[39;49m\u001b[39m*\u001b[39;49mparams)\n\u001b[0;32m     90\u001b[0m logger\u001b[39m.\u001b[39mdebug(\u001b[39m'\u001b[39m\u001b[39mResponse: \u001b[39m\u001b[39m%r\u001b[39;00m\u001b[39m'\u001b[39m, response)\n\u001b[0;32m     92\u001b[0m \u001b[39mreturn\u001b[39;00m \u001b[39mself\u001b[39m\u001b[39m.\u001b[39m_response_handler(parent, params, response)\n",
      "File \u001b[1;32mc:\\Users\\dines\\AppData\\Local\\Programs\\Python\\Python311\\Lib\\site-packages\\botocore\\client.py:553\u001b[0m, in \u001b[0;36mClientCreator._create_api_method.<locals>._api_call\u001b[1;34m(self, *args, **kwargs)\u001b[0m\n\u001b[0;32m    549\u001b[0m     \u001b[39mraise\u001b[39;00m \u001b[39mTypeError\u001b[39;00m(\n\u001b[0;32m    550\u001b[0m         \u001b[39mf\u001b[39m\u001b[39m\"\u001b[39m\u001b[39m{\u001b[39;00mpy_operation_name\u001b[39m}\u001b[39;00m\u001b[39m() only accepts keyword arguments.\u001b[39m\u001b[39m\"\u001b[39m\n\u001b[0;32m    551\u001b[0m     )\n\u001b[0;32m    552\u001b[0m \u001b[39m# The \"self\" in this scope is referring to the BaseClient.\u001b[39;00m\n\u001b[1;32m--> 553\u001b[0m \u001b[39mreturn\u001b[39;00m \u001b[39mself\u001b[39;49m\u001b[39m.\u001b[39;49m_make_api_call(operation_name, kwargs)\n",
      "File \u001b[1;32mc:\\Users\\dines\\AppData\\Local\\Programs\\Python\\Python311\\Lib\\site-packages\\botocore\\client.py:1009\u001b[0m, in \u001b[0;36mBaseClient._make_api_call\u001b[1;34m(self, operation_name, api_params)\u001b[0m\n\u001b[0;32m   1005\u001b[0m     error_code \u001b[39m=\u001b[39m error_info\u001b[39m.\u001b[39mget(\u001b[39m\"\u001b[39m\u001b[39mQueryErrorCode\u001b[39m\u001b[39m\"\u001b[39m) \u001b[39mor\u001b[39;00m error_info\u001b[39m.\u001b[39mget(\n\u001b[0;32m   1006\u001b[0m         \u001b[39m\"\u001b[39m\u001b[39mCode\u001b[39m\u001b[39m\"\u001b[39m\n\u001b[0;32m   1007\u001b[0m     )\n\u001b[0;32m   1008\u001b[0m     error_class \u001b[39m=\u001b[39m \u001b[39mself\u001b[39m\u001b[39m.\u001b[39mexceptions\u001b[39m.\u001b[39mfrom_code(error_code)\n\u001b[1;32m-> 1009\u001b[0m     \u001b[39mraise\u001b[39;00m error_class(parsed_response, operation_name)\n\u001b[0;32m   1010\u001b[0m \u001b[39melse\u001b[39;00m:\n\u001b[0;32m   1011\u001b[0m     \u001b[39mreturn\u001b[39;00m parsed_response\n",
      "\u001b[1;31mResourceInUseException\u001b[0m: An error occurred (ResourceInUseException) when calling the CreateTable operation: Table already exists: users"
     ]
    }
   ],
   "source": [
    "import boto3\n",
    "\n",
    "# Get the service resource.\n",
    "dynamodb = boto3.resource('dynamodb')\n",
    "\n",
    "# Create the DynamoDB table.\n",
    "table = dynamodb.create_table(\n",
    "    TableName='users',\n",
    "    KeySchema=[\n",
    "        {\n",
    "            'AttributeName': 'username',\n",
    "            'KeyType': 'HASH'\n",
    "        },\n",
    "        {\n",
    "            'AttributeName': 'last_name',\n",
    "            'KeyType': 'RANGE'\n",
    "        }\n",
    "    ],\n",
    "    AttributeDefinitions=[\n",
    "        {\n",
    "            'AttributeName': 'username',\n",
    "            'AttributeType': 'S'\n",
    "        },\n",
    "        {\n",
    "            'AttributeName': 'last_name',\n",
    "            'AttributeType': 'S'\n",
    "        },\n",
    "    ],\n",
    "    ProvisionedThroughput={\n",
    "        'ReadCapacityUnits': 5,\n",
    "        'WriteCapacityUnits': 5\n",
    "    }\n",
    ")\n",
    "\n",
    "# Wait until the table exists.\n",
    "table.wait_until_exists()\n",
    "\n",
    "# Print out some data about the table.\n",
    "print(table.item_count)"
   ]
  },
  {
   "cell_type": "markdown",
   "metadata": {},
   "source": [
    "# Initialize the DynamoDB client\n",
    "dynamodb = boto3"
   ]
  },
  {
   "cell_type": "code",
   "execution_count": 9,
   "metadata": {},
   "outputs": [
    {
     "data": {
      "text/plain": [
       "{'ResponseMetadata': {'RequestId': 'EOH48HC82RD3RU46SNEL3SGB6JVV4KQNSO5AEMVJF66Q9ASUAAJG',\n",
       "  'HTTPStatusCode': 200,\n",
       "  'HTTPHeaders': {'server': 'Server',\n",
       "   'date': 'Tue, 05 Dec 2023 01:15:11 GMT',\n",
       "   'content-type': 'application/x-amz-json-1.0',\n",
       "   'content-length': '2',\n",
       "   'connection': 'keep-alive',\n",
       "   'x-amzn-requestid': 'EOH48HC82RD3RU46SNEL3SGB6JVV4KQNSO5AEMVJF66Q9ASUAAJG',\n",
       "   'x-amz-crc32': '2745614147'},\n",
       "  'RetryAttempts': 0}}"
      ]
     },
     "execution_count": 9,
     "metadata": {},
     "output_type": "execute_result"
    }
   ],
   "source": [
    "import boto3\n",
    "\n",
    "# Get the service resource.\n",
    "dynamodb = boto3.resource('dynamodb')\n",
    "table = dynamodb.Table('users')\n",
    "\n",
    "table.put_item(\n",
    "   Item={\n",
    "        'username': 'janedoe',\n",
    "        'first_name': 'Jane',\n",
    "        'last_name': 'Doe',\n",
    "        'age': 25,\n",
    "        'account_type': 'standard_user',\n",
    "    }\n",
    ")"
   ]
  },
  {
   "cell_type": "markdown",
   "metadata": {},
   "source": [
    "ACUTAL WORK STARTS HERE"
   ]
  },
  {
   "cell_type": "markdown",
   "metadata": {},
   "source": [
    "Creates a table RAW"
   ]
  },
  {
   "cell_type": "code",
   "execution_count": 18,
   "metadata": {},
   "outputs": [
    {
     "name": "stdout",
     "output_type": "stream",
     "text": [
      "0\n"
     ]
    }
   ],
   "source": [
    "import boto3\n",
    "\n",
    "# Get the service resource.\n",
    "dynamodb = boto3.resource('dynamodb')\n",
    "\n",
    "# Create the DynamoDB table.\n",
    "table = dynamodb.create_table(\n",
    "    TableName='cleaned_dataset',\n",
    "    KeySchema=[\n",
    "        {\n",
    "            'AttributeName': 'ID',\n",
    "            'KeyType': 'HASH'\n",
    "        },\n",
    "        {\n",
    "            'AttributeName': 'Case Number',\n",
    "            'KeyType': 'RANGE'\n",
    "        }\n",
    "    ],\n",
    "    AttributeDefinitions=[\n",
    "        {\n",
    "            'AttributeName': 'ID',\n",
    "            'AttributeType': 'N'\n",
    "        },\n",
    "        {\n",
    "            'AttributeName': 'Case Number',\n",
    "            'AttributeType': 'S'\n",
    "        },\n",
    "    ],\n",
    "    ProvisionedThroughput={\n",
    "        'ReadCapacityUnits': 5,\n",
    "        'WriteCapacityUnits': 5\n",
    "    }\n",
    ")\n",
    "\n",
    "# Wait until the table exists.\n",
    "table.wait_until_exists()\n",
    "\n",
    "# Print out some data about the table.\n",
    "print(table.item_count)"
   ]
  },
  {
   "cell_type": "markdown",
   "metadata": {},
   "source": [
    "Add data to table\n"
   ]
  },
  {
   "cell_type": "code",
   "execution_count": 21,
   "metadata": {},
   "outputs": [
    {
     "name": "stdout",
     "output_type": "stream",
     "text": [
      "Data inserted into DynamoDB table: cleaned_dataset\n"
     ]
    }
   ],
   "source": [
    "import boto3\n",
    "import csv\n",
    "\n",
    "# Get the service resource.\n",
    "dynamodb = boto3.resource('dynamodb')\n",
    "table = dynamodb.Table('cleaned_dataset')\n",
    "\n",
    "with open('C:/Users/dines/OneDrive/Desktop/Big data/test3.csv', 'r') as file:\n",
    "    reader = csv.DictReader(file)\n",
    "    for row in reader:\n",
    "        # Convert values to appropriate data types if needed\n",
    "        item = {\n",
    "            'ID': int(row['ID']),\n",
    "            'Case Number': row['Case Number'],\n",
    "            'Date':row['Date'],\n",
    "            'Block': row['Block'],\n",
    "            'IUCR' : row ['IUCR'],\n",
    "            'Primary Type': row['Primary Type'],\n",
    "            'Description': row['Description'],\n",
    "            'Location Description': row['Location Description'],\n",
    "            'Arrest':row['Arrest'],\t\n",
    "            'Domestic':['Domestic'],\n",
    "            'Beat':row['Beat'],\n",
    "            'District':row['District'],\n",
    "            'Ward':row['Ward'],\n",
    "            'Community Area':row['Community Area'],\n",
    "            'FBI Code':row['FBI Code'],\n",
    "            'X Coordinate':row['X Coordinate'],\n",
    "            'Y Coordinate':row['Y Coordinate'],\n",
    "            'Year':row['Year'],\n",
    "            'Updated On':row['Updated On'],\n",
    "            'Latitude':row['Latitude'],\n",
    "            'Longitude':row['Longitude'],\n",
    "            'Location':row['Location'],\n",
    "            'DayOfWeek':row['DayOfWeek'],\n",
    "            'HourOfDay':row['HourOfDay']\n",
    "        }\n",
    "        # Insert each item into the new DynamoDB table\n",
    "        table.put_item(Item=item)\n",
    "\n",
    "print(\"Data inserted into DynamoDB table:\", 'cleaned_dataset')"
   ]
  },
  {
   "cell_type": "markdown",
   "metadata": {},
   "source": [
    "Pull data from Dynamo DB"
   ]
  },
  {
   "cell_type": "code",
   "execution_count": 13,
   "metadata": {},
   "outputs": [
    {
     "ename": "KeyError",
     "evalue": "'Location Description'",
     "output_type": "error",
     "traceback": [
      "\u001b[1;31m---------------------------------------------------------------------------\u001b[0m",
      "\u001b[1;31mKeyError\u001b[0m                                  Traceback (most recent call last)",
      "File \u001b[1;32mc:\\Users\\dines\\AppData\\Local\\Programs\\Python\\Python311\\Lib\\site-packages\\pandas\\core\\indexes\\base.py:3790\u001b[0m, in \u001b[0;36mIndex.get_loc\u001b[1;34m(self, key)\u001b[0m\n\u001b[0;32m   3789\u001b[0m \u001b[39mtry\u001b[39;00m:\n\u001b[1;32m-> 3790\u001b[0m     \u001b[39mreturn\u001b[39;00m \u001b[39mself\u001b[39;49m\u001b[39m.\u001b[39;49m_engine\u001b[39m.\u001b[39;49mget_loc(casted_key)\n\u001b[0;32m   3791\u001b[0m \u001b[39mexcept\u001b[39;00m \u001b[39mKeyError\u001b[39;00m \u001b[39mas\u001b[39;00m err:\n",
      "File \u001b[1;32mindex.pyx:152\u001b[0m, in \u001b[0;36mpandas._libs.index.IndexEngine.get_loc\u001b[1;34m()\u001b[0m\n",
      "File \u001b[1;32mindex.pyx:181\u001b[0m, in \u001b[0;36mpandas._libs.index.IndexEngine.get_loc\u001b[1;34m()\u001b[0m\n",
      "File \u001b[1;32mpandas\\_libs\\hashtable_class_helper.pxi:7080\u001b[0m, in \u001b[0;36mpandas._libs.hashtable.PyObjectHashTable.get_item\u001b[1;34m()\u001b[0m\n",
      "File \u001b[1;32mpandas\\_libs\\hashtable_class_helper.pxi:7088\u001b[0m, in \u001b[0;36mpandas._libs.hashtable.PyObjectHashTable.get_item\u001b[1;34m()\u001b[0m\n",
      "\u001b[1;31mKeyError\u001b[0m: 'Location Description'",
      "\nThe above exception was the direct cause of the following exception:\n",
      "\u001b[1;31mKeyError\u001b[0m                                  Traceback (most recent call last)",
      "\u001b[1;32mc:\\Users\\dines\\OneDrive\\Desktop\\Big data\\tester.ipynb Cell 10\u001b[0m line \u001b[0;36m4\n\u001b[0;32m     <a href='vscode-notebook-cell:/c%3A/Users/dines/OneDrive/Desktop/Big%20data/tester.ipynb#X12sZmlsZQ%3D%3D?line=21'>22</a>\u001b[0m columns_to_convert \u001b[39m=\u001b[39m [\u001b[39m'\u001b[39m\u001b[39mID\u001b[39m\u001b[39m'\u001b[39m,\n\u001b[0;32m     <a href='vscode-notebook-cell:/c%3A/Users/dines/OneDrive/Desktop/Big%20data/tester.ipynb#X12sZmlsZQ%3D%3D?line=22'>23</a>\u001b[0m             \u001b[39m'\u001b[39m\u001b[39mCase Number\u001b[39m\u001b[39m'\u001b[39m,\n\u001b[0;32m     <a href='vscode-notebook-cell:/c%3A/Users/dines/OneDrive/Desktop/Big%20data/tester.ipynb#X12sZmlsZQ%3D%3D?line=23'>24</a>\u001b[0m             \u001b[39m'\u001b[39m\u001b[39mDate\u001b[39m\u001b[39m'\u001b[39m,\n\u001b[1;32m   (...)\u001b[0m\n\u001b[0;32m     <a href='vscode-notebook-cell:/c%3A/Users/dines/OneDrive/Desktop/Big%20data/tester.ipynb#X12sZmlsZQ%3D%3D?line=43'>44</a>\u001b[0m             \u001b[39m'\u001b[39m\u001b[39mDayOfWeek\u001b[39m\u001b[39m'\u001b[39m,\n\u001b[0;32m     <a href='vscode-notebook-cell:/c%3A/Users/dines/OneDrive/Desktop/Big%20data/tester.ipynb#X12sZmlsZQ%3D%3D?line=44'>45</a>\u001b[0m             \u001b[39m'\u001b[39m\u001b[39mHourOfDay\u001b[39m\u001b[39m'\u001b[39m]  \u001b[39m# Replace with your column names\u001b[39;00m\n\u001b[0;32m     <a href='vscode-notebook-cell:/c%3A/Users/dines/OneDrive/Desktop/Big%20data/tester.ipynb#X12sZmlsZQ%3D%3D?line=45'>46</a>\u001b[0m \u001b[39mfor\u001b[39;00m col \u001b[39min\u001b[39;00m columns_to_convert:\n\u001b[1;32m---> <a href='vscode-notebook-cell:/c%3A/Users/dines/OneDrive/Desktop/Big%20data/tester.ipynb#X12sZmlsZQ%3D%3D?line=46'>47</a>\u001b[0m     df[col] \u001b[39m=\u001b[39m df[col]\u001b[39m.\u001b[39mapply(extract_value)\n\u001b[0;32m     <a href='vscode-notebook-cell:/c%3A/Users/dines/OneDrive/Desktop/Big%20data/tester.ipynb#X12sZmlsZQ%3D%3D?line=48'>49</a>\u001b[0m \u001b[39m# Display the DataFrame\u001b[39;00m\n\u001b[0;32m     <a href='vscode-notebook-cell:/c%3A/Users/dines/OneDrive/Desktop/Big%20data/tester.ipynb#X12sZmlsZQ%3D%3D?line=49'>50</a>\u001b[0m \u001b[39mprint\u001b[39m(df)\n",
      "File \u001b[1;32mc:\\Users\\dines\\AppData\\Local\\Programs\\Python\\Python311\\Lib\\site-packages\\pandas\\core\\frame.py:3893\u001b[0m, in \u001b[0;36mDataFrame.__getitem__\u001b[1;34m(self, key)\u001b[0m\n\u001b[0;32m   3891\u001b[0m \u001b[39mif\u001b[39;00m \u001b[39mself\u001b[39m\u001b[39m.\u001b[39mcolumns\u001b[39m.\u001b[39mnlevels \u001b[39m>\u001b[39m \u001b[39m1\u001b[39m:\n\u001b[0;32m   3892\u001b[0m     \u001b[39mreturn\u001b[39;00m \u001b[39mself\u001b[39m\u001b[39m.\u001b[39m_getitem_multilevel(key)\n\u001b[1;32m-> 3893\u001b[0m indexer \u001b[39m=\u001b[39m \u001b[39mself\u001b[39;49m\u001b[39m.\u001b[39;49mcolumns\u001b[39m.\u001b[39;49mget_loc(key)\n\u001b[0;32m   3894\u001b[0m \u001b[39mif\u001b[39;00m is_integer(indexer):\n\u001b[0;32m   3895\u001b[0m     indexer \u001b[39m=\u001b[39m [indexer]\n",
      "File \u001b[1;32mc:\\Users\\dines\\AppData\\Local\\Programs\\Python\\Python311\\Lib\\site-packages\\pandas\\core\\indexes\\base.py:3797\u001b[0m, in \u001b[0;36mIndex.get_loc\u001b[1;34m(self, key)\u001b[0m\n\u001b[0;32m   3792\u001b[0m     \u001b[39mif\u001b[39;00m \u001b[39misinstance\u001b[39m(casted_key, \u001b[39mslice\u001b[39m) \u001b[39mor\u001b[39;00m (\n\u001b[0;32m   3793\u001b[0m         \u001b[39misinstance\u001b[39m(casted_key, abc\u001b[39m.\u001b[39mIterable)\n\u001b[0;32m   3794\u001b[0m         \u001b[39mand\u001b[39;00m \u001b[39many\u001b[39m(\u001b[39misinstance\u001b[39m(x, \u001b[39mslice\u001b[39m) \u001b[39mfor\u001b[39;00m x \u001b[39min\u001b[39;00m casted_key)\n\u001b[0;32m   3795\u001b[0m     ):\n\u001b[0;32m   3796\u001b[0m         \u001b[39mraise\u001b[39;00m InvalidIndexError(key)\n\u001b[1;32m-> 3797\u001b[0m     \u001b[39mraise\u001b[39;00m \u001b[39mKeyError\u001b[39;00m(key) \u001b[39mfrom\u001b[39;00m \u001b[39merr\u001b[39;00m\n\u001b[0;32m   3798\u001b[0m \u001b[39mexcept\u001b[39;00m \u001b[39mTypeError\u001b[39;00m:\n\u001b[0;32m   3799\u001b[0m     \u001b[39m# If we have a listlike key, _check_indexing_error will raise\u001b[39;00m\n\u001b[0;32m   3800\u001b[0m     \u001b[39m#  InvalidIndexError. Otherwise we fall through and re-raise\u001b[39;00m\n\u001b[0;32m   3801\u001b[0m     \u001b[39m#  the TypeError.\u001b[39;00m\n\u001b[0;32m   3802\u001b[0m     \u001b[39mself\u001b[39m\u001b[39m.\u001b[39m_check_indexing_error(key)\n",
      "\u001b[1;31mKeyError\u001b[0m: 'Location Description'"
     ]
    }
   ],
   "source": [
    "import boto3\n",
    "import pandas as pd\n",
    "\n",
    "# Get the service resource.\n",
    "dynamodb = boto3.client('dynamodb')\n",
    "table_name ='cleaned_dataset'\n",
    "\n",
    "response = dynamodb.scan(TableName=table_name)\n",
    "items = response ['Items']\n",
    "print ('works')\n",
    "\n",
    "\n",
    "df = pd.DataFrame(items)\n",
    "def extract_value(value):\n",
    "    if isinstance(value, dict):\n",
    "        if 'S' in value:\n",
    "            return value['S']  # If it's a string attribute\n",
    "        elif 'N' in value:\n",
    "            return float(value['N'])  # If it's a number attribute\n",
    "    return value\n",
    "\n",
    "# Iterate through columns with DynamoDB attribute values\n",
    "columns_to_convert = ['ID',\n",
    "            'Case Number',\n",
    "            'Date',\n",
    "            'Block',\n",
    "            'IUCR',\n",
    "            'Primary Type',\n",
    "            'Description',\n",
    "            'Location Description',\n",
    "            'Arrest',\t\n",
    "            'Domestic',\n",
    "            'Beat',\n",
    "            'District',\n",
    "            'Ward',\n",
    "            'Community Area',\n",
    "            'FBI Code',\n",
    "            'X Coordinate',\n",
    "            'Y Coordinate',\n",
    "            'Year',\n",
    "            'Updated On',\n",
    "            'Latitude',\n",
    "            'Longitude',\n",
    "            'Location',\n",
    "            'DayOfWeek',\n",
    "            'HourOfDay']  # Replace with your column names\n",
    "for col in columns_to_convert:\n",
    "    df[col] = df[col].apply(extract_value)\n",
    "\n",
    "# Display the DataFrame\n",
    "print(df)"
   ]
  }
 ],
 "metadata": {
  "kernelspec": {
   "display_name": "Python 3",
   "language": "python",
   "name": "python3"
  },
  "language_info": {
   "codemirror_mode": {
    "name": "ipython",
    "version": 3
   },
   "file_extension": ".py",
   "mimetype": "text/x-python",
   "name": "python",
   "nbconvert_exporter": "python",
   "pygments_lexer": "ipython3",
   "version": "3.11.5"
  }
 },
 "nbformat": 4,
 "nbformat_minor": 2
}
